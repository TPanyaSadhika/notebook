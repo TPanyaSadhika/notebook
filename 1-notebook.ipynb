{
 "cells": [
  {
   "cell_type": "markdown",
   "id": "74679077",
   "metadata": {},
   "source": [
    "# Data Science Tools and Ecosystem"
   ]
  },
  {
   "cell_type": "markdown",
   "id": "e5f88cb1",
   "metadata": {},
   "source": [
    "## Introduction\n",
    "In this notebook, we will explore some of the popular tools, languages, and libraries used in Data Science.\n",
    "We will also demonstrate a few basic arithmetic expressions using Python."
   ]
  },
  {
   "cell_type": "markdown",
   "id": "1fb8fa51",
   "metadata": {},
   "source": [
    "## Data Science Languages\n",
    "Some of the popular languages that Data Scientists use are:\n",
    "- Python\n",
    "- R\n",
    "- SQL\n",
    "- Java\n",
    "- Julia"
   ]
  },
  {
   "cell_type": "markdown",
   "id": "b585fc6d",
   "metadata": {},
   "source": [
    "## Data Science Libraries\n",
    "Some of the commonly used libraries are:\n",
    "- NumPy\n",
    "- Pandas\n",
    "- Matplotlib\n",
    "- Scikit-learn\n",
    "- TensorFlow\n",
    "- ggplot2"
   ]
  },
  {
   "cell_type": "markdown",
   "id": "fbbc56f6",
   "metadata": {},
   "source": [
    "## Data Science Tools\n",
    "| Tool            | Category            |\n",
    "|-----------------|---------------------|\n",
    "| Jupyter Notebook | Interactive IDE    |\n",
    "| RStudio         | IDE for R          |\n",
    "| Apache Spark    | Big Data Processing|\n",
    "| TensorFlow      | Deep Learning      |\n",
    "| Tableau         | Visualization      |"
   ]
  },
  {
   "cell_type": "markdown",
   "id": "ddf18c6b",
   "metadata": {},
   "source": [
    "## Arithmetic Expressions\n",
    "Below are examples of evaluating arithmetic expressions in Python."
   ]
  },
  {
   "cell_type": "code",
   "execution_count": null,
   "id": "510ab8e1",
   "metadata": {},
   "outputs": [],
   "source": [
    "# Multiply and add numbers\n",
    "result = (3 * 4) + 5\n",
    "result"
   ]
  },
  {
   "cell_type": "code",
   "execution_count": null,
   "id": "24a086ac",
   "metadata": {},
   "outputs": [],
   "source": [
    "# Convert 200 minutes to hours\n",
    "minutes = 200\n",
    "hours = minutes / 60\n",
    "hours"
   ]
  },
  {
   "cell_type": "markdown",
   "id": "9911873f",
   "metadata": {},
   "source": [
    "## Objectives\n",
    "In this notebook, we will:\n",
    "- List popular data science languages\n",
    "- List commonly used libraries\n",
    "- Create a table of tools\n",
    "- Perform simple arithmetic operations\n",
    "- Convert minutes to hours"
   ]
  },
  {
   "cell_type": "markdown",
   "id": "f395a971",
   "metadata": {},
   "source": [
    "## Author\n",
    "**Your Name**"
   ]
  }
 ],
 "metadata": {},
 "nbformat": 4,
 "nbformat_minor": 5
}
